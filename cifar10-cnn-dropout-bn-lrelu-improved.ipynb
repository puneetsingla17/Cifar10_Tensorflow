{
 "cells": [
  {
   "cell_type": "code",
   "execution_count": 1,
   "metadata": {
    "_cell_guid": "b1076dfc-b9ad-4769-8c92-a6c4dae69d19",
    "_uuid": "8f2839f25d086af736a60e9eeb907d3b93b6e0e5"
   },
   "outputs": [
    {
     "name": "stdout",
     "output_type": "stream",
     "text": [
      "[]\n"
     ]
    },
    {
     "name": "stderr",
     "output_type": "stream",
     "text": [
      "Using TensorFlow backend.\n"
     ]
    }
   ],
   "source": [
    "# This Python 3 environment comes with many helpful analytics libraries installed\n",
    "# It is defined by the kaggle/python docker image: https://github.com/kaggle/docker-python\n",
    "# For example, here's several helpful packages to load in \n",
    "\n",
    "import numpy as np # linear algebra\n",
    "import pandas as pd # data processing, CSV file I/O (e.g. pd.read_csv)\n",
    "import tensorflow as tf\n",
    "from keras.datasets import cifar10\n",
    "from keras.utils import to_categorical\n",
    "# Input data files are available in the \"../input/\" directory.\n",
    "# For example, running this (by clicking run or pressing Shift+Enter) will list the files in the input directory\n",
    "import matplotlib.pyplot as plt\n",
    "import os\n",
    "print(os.listdir(\"../input\"))\n",
    "\n",
    "# Any results you write to the current directory are saved as output."
   ]
  },
  {
   "cell_type": "code",
   "execution_count": 2,
   "metadata": {
    "_cell_guid": "79c7e3d0-c299-4dcb-8224-4455121ee9b0",
    "_uuid": "d629ff2d2480ee46fbb7e2d37f6b5fab8052498a"
   },
   "outputs": [
    {
     "name": "stdout",
     "output_type": "stream",
     "text": [
      "Downloading data from https://www.cs.toronto.edu/~kriz/cifar-10-python.tar.gz\n",
      "170500096/170498071 [==============================] - 36s 0us/step\n"
     ]
    }
   ],
   "source": [
    "(xtrain,ytrain),(xvalid,yvalid)=cifar10.load_data()"
   ]
  },
  {
   "cell_type": "code",
   "execution_count": 3,
   "metadata": {
    "_uuid": "b1a69d3eeb8623f0c50ba89691ca2f21672a51bd"
   },
   "outputs": [],
   "source": [
    "xtrain1=xtrain.astype(np.float32)/255\n",
    "xvalid1=xvalid.astype(np.float32)/255\n",
    "ytrain1=to_categorical(ytrain,10)\n",
    "yvalid1=to_categorical(yvalid,10)"
   ]
  },
  {
   "cell_type": "code",
   "execution_count": 4,
   "metadata": {
    "_uuid": "a8e76323ef55535388c1b6b12740cc0d7614728d"
   },
   "outputs": [],
   "source": [
    "imgshape=xtrain1.shape[1:]\n",
    "Ntrain=len(xtrain1)\n",
    "Nvalid=len(xvalid1)"
   ]
  },
  {
   "cell_type": "code",
   "execution_count": 5,
   "metadata": {
    "_uuid": "4ec74e93757db58b81db2ffd2d5f9040240dc736"
   },
   "outputs": [],
   "source": [
    "x=tf.placeholder(tf.float32,shape=[None,32,32,3])\n",
    "y=tf.placeholder(tf.float32,shape=[None,10])"
   ]
  },
  {
   "cell_type": "code",
   "execution_count": 6,
   "metadata": {
    "_uuid": "846cf322d32afa668ee96a69ad4a6d31601dfab5"
   },
   "outputs": [],
   "source": [
    "w1=tf.Variable(tf.random_normal(shape=[4,4,3,16],stddev=0.1))\n",
    "b1=tf.Variable(tf.random_normal(shape=[16,],stddev=0.1))\n",
    "w2=tf.Variable(tf.random_normal(shape=[4,4,16,32],stddev=0.1))\n",
    "b2=tf.Variable(tf.random_normal(shape=[32,],stddev=0.1))\n",
    "w3=tf.Variable(tf.random_normal(shape=[4,4,32,64],stddev=0.1))\n",
    "b3=tf.Variable(tf.random_normal(shape=[64,],stddev=0.1))\n",
    "w4=tf.Variable(tf.random_normal(shape=[1024,256],stddev=0.1))\n",
    "b4=tf.Variable(tf.random_normal(shape=[256,],stddev=0.1))\n",
    "w5=tf.Variable(tf.random_normal(shape=[256,10],stddev=0.1))\n",
    "b5=tf.Variable(tf.random_normal(shape=[10,],stddev=0.1))\n",
    "kp1=tf.placeholder(tf.float32)\n",
    "kp2=tf.placeholder(tf.float32)\n",
    "kp3=tf.placeholder(tf.float32)\n",
    "kp4=tf.placeholder(tf.float32)"
   ]
  },
  {
   "cell_type": "code",
   "execution_count": 7,
   "metadata": {
    "_uuid": "fc709d3a8604c2690e5cd6d73a95f3aeb705192d"
   },
   "outputs": [],
   "source": [
    "layer_cn1=tf.nn.conv2d(x,w1,strides=[1,1,1,1],padding='SAME')+b1\n",
    "layer_cn1=tf.nn.leaky_relu(tf.layers.batch_normalization(layer_cn1,training=True))\n",
    "layer_pool1=tf.nn.max_pool(layer_cn1,ksize=[1,2,2,1],strides=[1,2,2,1],padding='SAME')\n",
    "layer_drop1=tf.nn.dropout(layer_pool1,keep_prob=kp1)"
   ]
  },
  {
   "cell_type": "code",
   "execution_count": 8,
   "metadata": {
    "_uuid": "53860a3807299e665378cd9b620c76cbf4dace52"
   },
   "outputs": [],
   "source": [
    "layer_cn2=tf.nn.leaky_relu(tf.layers.batch_normalization(tf.nn.conv2d(layer_drop1,w2,strides=[1,1,1,1],padding='SAME')+b2,training=True))\n",
    "layer_pool2=tf.nn.max_pool(layer_cn2,ksize=[1,2,2,1],strides=[1,2,2,1],padding='SAME')\n",
    "layer_drop2=tf.nn.dropout(layer_pool2,keep_prob=kp2)"
   ]
  },
  {
   "cell_type": "code",
   "execution_count": 9,
   "metadata": {
    "_uuid": "46ad221957a61ab317187194286cd55e95207f60"
   },
   "outputs": [],
   "source": [
    "layer_cn3=tf.nn.leaky_relu(tf.layers.batch_normalization(tf.nn.conv2d(layer_drop2,w3,strides=[1,1,1,1],padding='SAME')+b3,training=True))\n",
    "layer_pool3=tf.nn.max_pool(layer_cn3,ksize=[1,2,2,1],strides=[1,2,2,1],padding='SAME')\n",
    "layer_drop3=tf.nn.dropout(layer_pool3,keep_prob=kp3)"
   ]
  },
  {
   "cell_type": "code",
   "execution_count": 10,
   "metadata": {
    "_uuid": "8aec0dd6baacfd008bc41ad02bbcf93afab4e951"
   },
   "outputs": [],
   "source": [
    "layer_reshp=tf.reshape(layer_pool3,shape=[-1,4*4*64])\n"
   ]
  },
  {
   "cell_type": "code",
   "execution_count": 11,
   "metadata": {
    "_uuid": "c0385da42c06e7acfe0be5e3684c1623ee545239"
   },
   "outputs": [],
   "source": [
    "layer_fc1=tf.nn.leaky_relu(tf.layers.batch_normalization(tf.matmul(layer_reshp,w4)+b4,training=True))\n",
    "layer_drop_fc1=tf.nn.dropout(layer_fc1,keep_prob=kp4)\n",
    "layer_fc2=tf.matmul(layer_drop_fc1,w5)+b5"
   ]
  },
  {
   "cell_type": "code",
   "execution_count": 12,
   "metadata": {
    "_uuid": "3343da6e0e6ddd104157a286f030cdb9a3343611"
   },
   "outputs": [],
   "source": []
  },
  {
   "cell_type": "code",
   "execution_count": 12,
   "metadata": {
    "_uuid": "bc00ea019aa1830568e193e2b1d3f66040e35ce0"
   },
   "outputs": [],
   "source": [
    "cross_entropy=tf.reduce_mean(tf.nn.softmax_cross_entropy_with_logits_v2(logits=layer_fc2,labels=y))"
   ]
  },
  {
   "cell_type": "code",
   "execution_count": 13,
   "metadata": {
    "_uuid": "1eb7bc1ddc725b8f338fd0e83dada4f159782fb0"
   },
   "outputs": [],
   "source": [
    "optimize=tf.train.AdamOptimizer(0.01).minimize(cross_entropy)"
   ]
  },
  {
   "cell_type": "code",
   "execution_count": 14,
   "metadata": {
    "_uuid": "df1136d2b44ea48d0294cec8582d0f5f55285dc0"
   },
   "outputs": [],
   "source": [
    "prediction=tf.argmax(tf.nn.softmax(layer_fc2),axis=1)\n",
    "accuracy=tf.reduce_mean(tf.cast(tf.equal(prediction,tf.argmax(y,axis=1)),tf.float32))*100"
   ]
  },
  {
   "cell_type": "code",
   "execution_count": 15,
   "metadata": {
    "_uuid": "4680830afe4a5a57f7a76ffe8538cef73a84e9ce"
   },
   "outputs": [],
   "source": [
    "batchsize=100\n",
    "epochs=6000"
   ]
  },
  {
   "cell_type": "code",
   "execution_count": 16,
   "metadata": {
    "_uuid": "36b778f3bee25c241f03d719e68902afaac085c8"
   },
   "outputs": [],
   "source": [
    "init=tf.global_variables_initializer()"
   ]
  },
  {
   "cell_type": "code",
   "execution_count": 17,
   "metadata": {
    "_uuid": "7485fd56204806eecd7eb1b7569b4fd6c99ec1db"
   },
   "outputs": [
    {
     "name": "stdout",
     "output_type": "stream",
     "text": [
      "epoch: 0  trainloss: 2.6848896  trainaccuracy: 25.529999 validloss: 2.6695483 validacc: 25.650002\n",
      "epoch: 100  trainloss: 1.4369953  trainaccuracy: 48.21 validloss: 1.4488372 validacc: 48.18\n",
      "epoch: 200  trainloss: 1.2434455  trainaccuracy: 55.17 validloss: 1.2702175 validacc: 55.369995\n",
      "epoch: 300  trainloss: 1.0469677  trainaccuracy: 62.690002 validloss: 1.0933865 validacc: 61.21\n",
      "epoch: 400  trainloss: 1.0258398  trainaccuracy: 63.61 validloss: 1.1030042 validacc: 61.940002\n",
      "epoch: 500  trainloss: 0.93276346  trainaccuracy: 67.07 validloss: 1.000853 validacc: 65.270004\n",
      "epoch: 600  trainloss: 0.8922084  trainaccuracy: 68.8 validloss: 0.98061365 validacc: 65.46\n",
      "epoch: 700  trainloss: 0.84106016  trainaccuracy: 70.240005 validloss: 0.94096524 validacc: 67.299995\n",
      "epoch: 800  trainloss: 0.84894806  trainaccuracy: 70.18 validloss: 0.9586881 validacc: 66.689995\n",
      "epoch: 900  trainloss: 0.7923281  trainaccuracy: 72.07 validloss: 0.9040541 validacc: 68.44\n",
      "epoch: 1000  trainloss: 0.72869444  trainaccuracy: 74.93 validloss: 0.87788916 validacc: 69.35\n",
      "epoch: 1100  trainloss: 0.7248542  trainaccuracy: 75.25 validloss: 0.86812305 validacc: 70.33\n",
      "epoch: 1200  trainloss: 0.7006816  trainaccuracy: 75.770004 validloss: 0.86110675 validacc: 70.08\n",
      "epoch: 1300  trainloss: 0.65459454  trainaccuracy: 77.630005 validloss: 0.8239709 validacc: 72.11\n",
      "epoch: 1400  trainloss: 0.6742081  trainaccuracy: 76.05 validloss: 0.8673629 validacc: 70.25\n",
      "epoch: 1500  trainloss: 0.68148386  trainaccuracy: 75.85 validloss: 0.8610428 validacc: 70.53\n",
      "epoch: 1600  trainloss: 0.6339578  trainaccuracy: 77.97 validloss: 0.82670593 validacc: 71.68\n",
      "epoch: 1700  trainloss: 0.6006624  trainaccuracy: 79.79 validloss: 0.81117356 validacc: 72.07\n",
      "epoch: 1800  trainloss: 0.5933265  trainaccuracy: 79.28 validloss: 0.8112192 validacc: 72.28\n",
      "epoch: 1900  trainloss: 0.5643994  trainaccuracy: 80.76 validloss: 0.78383094 validacc: 73.94\n",
      "epoch: 2000  trainloss: 0.5627513  trainaccuracy: 80.54 validloss: 0.82824534 validacc: 71.8\n",
      "epoch: 2100  trainloss: 0.53199303  trainaccuracy: 81.63 validloss: 0.8090352 validacc: 72.56\n",
      "epoch: 2200  trainloss: 0.5460095  trainaccuracy: 81.38 validloss: 0.80839187 validacc: 72.97\n",
      "epoch: 2300  trainloss: 0.5057167  trainaccuracy: 82.53 validloss: 0.81445026 validacc: 73.61\n",
      "epoch: 2400  trainloss: 0.502296  trainaccuracy: 82.450005 validloss: 0.7996884 validacc: 73.61\n",
      "epoch: 2500  trainloss: 0.51604337  trainaccuracy: 82.29 validloss: 0.84786856 validacc: 72.479996\n",
      "epoch: 2600  trainloss: 0.4688039  trainaccuracy: 84.07 validloss: 0.7917998 validacc: 74.29\n",
      "epoch: 2700  trainloss: 0.46802852  trainaccuracy: 83.93 validloss: 0.8139763 validacc: 73.45\n",
      "epoch: 2800  trainloss: 0.4453087  trainaccuracy: 84.93 validloss: 0.78700817 validacc: 74.06\n",
      "epoch: 2900  trainloss: 0.46267372  trainaccuracy: 84.05 validloss: 0.8223924 validacc: 73.94\n",
      "epoch: 3000  trainloss: 0.4294459  trainaccuracy: 85.11 validloss: 0.7966041 validacc: 73.97\n",
      "epoch: 3100  trainloss: 0.46967676  trainaccuracy: 83.770004 validloss: 0.81947756 validacc: 73.92\n",
      "epoch: 3200  trainloss: 0.43307334  trainaccuracy: 85.17 validloss: 0.8018094 validacc: 74.28\n",
      "epoch: 3300  trainloss: 0.45666054  trainaccuracy: 84.55 validloss: 0.8263616 validacc: 73.31\n",
      "epoch: 3400  trainloss: 0.38561484  trainaccuracy: 86.7 validloss: 0.7796036 validacc: 75.17\n",
      "epoch: 3500  trainloss: 0.41915518  trainaccuracy: 85.47 validloss: 0.82242656 validacc: 74.36\n",
      "epoch: 3600  trainloss: 0.39317796  trainaccuracy: 86.409996 validloss: 0.8038457 validacc: 74.479996\n",
      "epoch: 3700  trainloss: 0.3756859  trainaccuracy: 86.93 validloss: 0.80690706 validacc: 74.45\n",
      "epoch: 3800  trainloss: 0.40048683  trainaccuracy: 85.93 validloss: 0.82607216 validacc: 74.26\n",
      "epoch: 3900  trainloss: 0.38638297  trainaccuracy: 86.27 validloss: 0.8416176 validacc: 73.93\n",
      "epoch: 4000  trainloss: 0.3959941  trainaccuracy: 86.86 validloss: 0.8419719 validacc: 74.479996\n",
      "epoch: 4100  trainloss: 0.34419012  trainaccuracy: 88.04 validloss: 0.820608 validacc: 75.16\n",
      "epoch: 4200  trainloss: 0.3619877  trainaccuracy: 87.74 validloss: 0.8125326 validacc: 74.62\n",
      "epoch: 4300  trainloss: 0.3546285  trainaccuracy: 88.07 validloss: 0.8396897 validacc: 74.159996\n",
      "epoch: 4400  trainloss: 0.3508895  trainaccuracy: 87.41 validloss: 0.85042405 validacc: 74.18\n",
      "epoch: 4500  trainloss: 0.34552833  trainaccuracy: 88.43 validloss: 0.83400744 validacc: 74.92\n",
      "epoch: 4600  trainloss: 0.32028154  trainaccuracy: 89.240005 validloss: 0.8155119 validacc: 75.1\n",
      "epoch: 4700  trainloss: 0.31391373  trainaccuracy: 88.880005 validloss: 0.8387906 validacc: 75.2\n",
      "epoch: 4800  trainloss: 0.31306425  trainaccuracy: 89.520004 validloss: 0.80311453 validacc: 74.98\n",
      "epoch: 4900  trainloss: 0.31564575  trainaccuracy: 89.35 validloss: 0.8501451 validacc: 74.44\n",
      "epoch: 5000  trainloss: 0.29434207  trainaccuracy: 89.770004 validloss: 0.86271477 validacc: 74.37\n",
      "epoch: 5100  trainloss: 0.27067608  trainaccuracy: 90.7 validloss: 0.8402017 validacc: 74.76\n",
      "epoch: 5200  trainloss: 0.3042116  trainaccuracy: 89.600006 validloss: 0.86736095 validacc: 74.47\n",
      "epoch: 5300  trainloss: 0.30152187  trainaccuracy: 89.69 validloss: 0.885817 validacc: 74.14\n",
      "epoch: 5400  trainloss: 0.28270477  trainaccuracy: 90.53 validloss: 0.8553158 validacc: 75.35\n",
      "epoch: 5500  trainloss: 0.27566993  trainaccuracy: 90.47 validloss: 0.86429846 validacc: 75.2\n",
      "epoch: 5600  trainloss: 0.2709685  trainaccuracy: 90.79 validloss: 0.8818456 validacc: 74.71\n",
      "epoch: 5700  trainloss: 0.2561106  trainaccuracy: 91.21 validloss: 0.8522051 validacc: 74.99\n",
      "epoch: 5800  trainloss: 0.25064445  trainaccuracy: 91.34 validloss: 0.8654519 validacc: 75.49\n",
      "epoch: 5900  trainloss: 0.2662893  trainaccuracy: 90.3 validloss: 0.8920051 validacc: 74.74\n"
     ]
    }
   ],
   "source": [
    "train_loss=[]\n",
    "valid_loss=[]\n",
    "train_acc=[]\n",
    "valid_acc=[]\n",
    "with tf.Session() as s:\n",
    "    s.run(init)\n",
    "    for i in range(epochs):\n",
    "        index=np.random.choice(Ntrain,batchsize,replace=False)\n",
    "        batch_x=xtrain1[index]\n",
    "        batch_y=ytrain1[index]\n",
    "        feeddict={x:batch_x,y:batch_y,kp1:1.0,kp2:1.0,kp3:0.7,kp4:0.8}\n",
    "        batch_loss,_,batchacc=s.run([cross_entropy,optimize,accuracy],feed_dict=feeddict)\n",
    "        if (i%10)==0:\n",
    "            \n",
    "            # Computing Train accuracy and loss\n",
    "            index1=np.random.choice(Ntrain,10000,replace=False)\n",
    "            batch_train_x=xtrain1[index1]\n",
    "            batch_train_y=ytrain1[index1]\n",
    "            feeddict1={x:batch_train_x,y:batch_train_y,kp1:1.0,kp2:1.0,kp3:1.0,kp4:1.0}\n",
    "            trainloss,trainacc=s.run([cross_entropy,accuracy],feed_dict=feeddict1)\n",
    "            train_loss.append(trainloss)\n",
    "            train_acc.append(trainacc)\n",
    "            \n",
    "            #Computing validation Accuracy and loss\n",
    "            \n",
    "            batch_valid_x=xvalid1\n",
    "            batch_valid_y=yvalid1\n",
    "            feeddict2={x:batch_valid_x,y:batch_valid_y,kp1:1.0,kp2:1.0,kp3:1.0,kp4:1.0}\n",
    "            validloss,validacc=s.run([cross_entropy,accuracy],feed_dict=feeddict2)\n",
    "            valid_loss.append(validloss)\n",
    "            valid_acc.append(validacc)\n",
    "            \n",
    "            if i%100==0:\n",
    "                print('epoch:',i,' trainloss:',trainloss,' trainaccuracy:',trainacc,'validloss:',validloss,'validacc:',validacc)"
   ]
  },
  {
   "cell_type": "code",
   "execution_count": 18,
   "metadata": {
    "_uuid": "1a0e790909a9a22e42f2a4406600dcc15d4e9717"
   },
   "outputs": [],
   "source": [
    "#During Analysis if weights in model are limited less and we are using dropout then it is going to hurt model accuracy instead of\n",
    "#improving it\n",
    "# it is better to apply dropout to layer with large number of weights as that layer has more tendency to overfit\n",
    "#during prediction and val acc, train acc calculations we shouldnt apply dropout to model so we set keep prob to all layers as 1\n",
    "# Clearly Dropout and BatchNormalization CNN performs better than Normal deep CNN in terms of accuracy and loss"
   ]
  },
  {
   "cell_type": "code",
   "execution_count": 19,
   "metadata": {
    "_uuid": "b13b5b0e90c43fec0f71e379f9fb67918062ed2b"
   },
   "outputs": [
    {
     "data": {
      "text/plain": [
       "<matplotlib.legend.Legend at 0x7f286c6875c0>"
      ]
     },
     "execution_count": 19,
     "metadata": {},
     "output_type": "execute_result"
    },
    {
     "data": {
      "image/png": "[encoded data removed]",
      "text/plain": [
       "<Figure size 432x288 with 1 Axes>"
      ]
     },
     "metadata": {},
     "output_type": "display_data"
    }
   ],
   "source": [
    "plt.plot(train_acc,label='train_acc')\n",
    "plt.plot(valid_acc,label='valid_acc')\n",
    "plt.xlabel('epochs')\n",
    "plt.ylabel('accuracy')\n",
    "plt.legend()"
   ]
  },
  {
   "cell_type": "code",
   "execution_count": 20,
   "metadata": {
    "_uuid": "132539557669097d01c36216c98a3ee4af63c925"
   },
   "outputs": [
    {
     "data": {
      "text/plain": [
       "<matplotlib.legend.Legend at 0x7f286c5bcba8>"
      ]
     },
     "execution_count": 20,
     "metadata": {},
     "output_type": "execute_result"
    },
    {
     "data": {
      "image/png": "[encoded data removed]",
      "text/plain": [
       "<Figure size 432x288 with 1 Axes>"
      ]
     },
     "metadata": {},
     "output_type": "display_data"
    }
   ],
   "source": [
    "plt.plot(train_loss,label='train_loss')\n",
    "plt.plot(valid_loss,label='valid_loss')\n",
    "plt.xlabel('epochs')\n",
    "plt.ylabel('loss')\n",
    "plt.legend()"
   ]
  },
  {
   "cell_type": "code",
   "execution_count": 21,
   "metadata": {
    "_uuid": "89b146c99780f611ff8432cd0eac58ed485ad0ea"
   },
   "outputs": [],
   "source": []
  }
 ],
 "metadata": {
  "kernelspec": {
   "display_name": "Python 3",
   "language": "python",
   "name": "python3"
  },
  "language_info": {
   "codemirror_mode": {
    "name": "ipython",
    "version": 3
   },
   "file_extension": ".py",
   "mimetype": "text/x-python",
   "name": "python",
   "nbconvert_exporter": "python",
   "pygments_lexer": "ipython3",
   "version": "3.6.6"
  }
 },
 "nbformat": 4,
 "nbformat_minor": 1
}
