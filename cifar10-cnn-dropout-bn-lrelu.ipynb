{
 "cells": [
  {
   "cell_type": "code",
   "execution_count": 1,
   "metadata": {
    "_cell_guid": "b1076dfc-b9ad-4769-8c92-a6c4dae69d19",
    "_uuid": "8f2839f25d086af736a60e9eeb907d3b93b6e0e5"
   },
   "outputs": [
    {
     "name": "stdout",
     "output_type": "stream",
     "text": [
      "[]\n"
     ]
    },
    {
     "name": "stderr",
     "output_type": "stream",
     "text": [
      "Using TensorFlow backend.\n"
     ]
    }
   ],
   "source": [
    "# This Python 3 environment comes with many helpful analytics libraries installed\n",
    "# It is defined by the kaggle/python docker image: https://github.com/kaggle/docker-python\n",
    "# For example, here's several helpful packages to load in \n",
    "\n",
    "import numpy as np # linear algebra\n",
    "import pandas as pd # data processing, CSV file I/O (e.g. pd.read_csv)\n",
    "import tensorflow as tf\n",
    "from keras.datasets import cifar10\n",
    "from keras.utils import to_categorical\n",
    "# Input data files are available in the \"../input/\" directory.\n",
    "# For example, running this (by clicking run or pressing Shift+Enter) will list the files in the input directory\n",
    "import matplotlib.pyplot as plt\n",
    "import os\n",
    "print(os.listdir(\"../input\"))\n",
    "\n",
    "# Any results you write to the current directory are saved as output."
   ]
  },
  {
   "cell_type": "code",
   "execution_count": 2,
   "metadata": {
    "_cell_guid": "79c7e3d0-c299-4dcb-8224-4455121ee9b0",
    "_uuid": "d629ff2d2480ee46fbb7e2d37f6b5fab8052498a"
   },
   "outputs": [
    {
     "name": "stdout",
     "output_type": "stream",
     "text": [
      "Downloading data from https://www.cs.toronto.edu/~kriz/cifar-10-python.tar.gz\n",
      "170500096/170498071 [==============================] - 46s 0us/step\n"
     ]
    }
   ],
   "source": [
    "(xtrain,ytrain),(xvalid,yvalid)=cifar10.load_data()"
   ]
  },
  {
   "cell_type": "code",
   "execution_count": 3,
   "metadata": {
    "_uuid": "b1a69d3eeb8623f0c50ba89691ca2f21672a51bd"
   },
   "outputs": [],
   "source": [
    "xtrain1=xtrain.astype(np.float32)/255\n",
    "xvalid1=xvalid.astype(np.float32)/255\n",
    "ytrain1=to_categorical(ytrain,10)\n",
    "yvalid1=to_categorical(yvalid,10)"
   ]
  },
  {
   "cell_type": "code",
   "execution_count": 4,
   "metadata": {
    "_uuid": "a8e76323ef55535388c1b6b12740cc0d7614728d"
   },
   "outputs": [],
   "source": [
    "imgshape=xtrain1.shape[1:]\n",
    "Ntrain=len(xtrain1)\n",
    "Nvalid=len(xvalid1)"
   ]
  },
  {
   "cell_type": "code",
   "execution_count": 5,
   "metadata": {
    "_uuid": "4ec74e93757db58b81db2ffd2d5f9040240dc736"
   },
   "outputs": [],
   "source": [
    "x=tf.placeholder(tf.float32,shape=[None,32,32,3])\n",
    "y=tf.placeholder(tf.float32,shape=[None,10])"
   ]
  },
  {
   "cell_type": "code",
   "execution_count": 6,
   "metadata": {
    "_uuid": "846cf322d32afa668ee96a69ad4a6d31601dfab5"
   },
   "outputs": [],
   "source": [
    "w1=tf.Variable(tf.random_normal(shape=[4,4,3,16],stddev=0.1))\n",
    "b1=tf.Variable(tf.random_normal(shape=[16,],stddev=0.1))\n",
    "w2=tf.Variable(tf.random_normal(shape=[4,4,16,32],stddev=0.1))\n",
    "b2=tf.Variable(tf.random_normal(shape=[32,],stddev=0.1))\n",
    "w3=tf.Variable(tf.random_normal(shape=[4,4,32,64],stddev=0.1))\n",
    "b3=tf.Variable(tf.random_normal(shape=[64,],stddev=0.1))\n",
    "w4=tf.Variable(tf.random_normal(shape=[1024,10],stddev=0.1))\n",
    "b4=tf.Variable(tf.random_normal(shape=[10,],stddev=0.1))\n",
    "kp1=tf.placeholder(tf.float32)\n",
    "kp2=tf.placeholder(tf.float32)\n",
    "kp3=tf.placeholder(tf.float32)\n",
    "#kp4=tf.placeholder(tf.float32)"
   ]
  },
  {
   "cell_type": "code",
   "execution_count": 7,
   "metadata": {
    "_uuid": "fc709d3a8604c2690e5cd6d73a95f3aeb705192d"
   },
   "outputs": [],
   "source": [
    "layer_cn1=tf.nn.conv2d(x,w1,strides=[1,1,1,1],padding='SAME')+b1\n",
    "layer_cn1=tf.nn.leaky_relu(tf.layers.batch_normalization(layer_cn1,training=True))\n",
    "layer_pool1=tf.nn.max_pool(layer_cn1,ksize=[1,2,2,1],strides=[1,2,2,1],padding='SAME')\n",
    "layer_drop1=tf.nn.dropout(layer_pool1,keep_prob=kp1)"
   ]
  },
  {
   "cell_type": "code",
   "execution_count": 8,
   "metadata": {
    "_uuid": "53860a3807299e665378cd9b620c76cbf4dace52"
   },
   "outputs": [],
   "source": [
    "layer_cn2=tf.nn.leaky_relu(tf.layers.batch_normalization(tf.nn.conv2d(layer_drop1,w2,strides=[1,1,1,1],padding='SAME')+b2,training=True))\n",
    "layer_pool2=tf.nn.max_pool(layer_cn2,ksize=[1,2,2,1],strides=[1,2,2,1],padding='SAME')\n",
    "layer_drop2=tf.nn.dropout(layer_pool2,keep_prob=kp2)"
   ]
  },
  {
   "cell_type": "code",
   "execution_count": 9,
   "metadata": {
    "_uuid": "46ad221957a61ab317187194286cd55e95207f60"
   },
   "outputs": [],
   "source": [
    "layer_cn3=tf.nn.leaky_relu(tf.layers.batch_normalization(tf.nn.conv2d(layer_drop2,w3,strides=[1,1,1,1],padding='SAME')+b3,training=True))\n",
    "layer_pool3=tf.nn.max_pool(layer_cn3,ksize=[1,2,2,1],strides=[1,2,2,1],padding='SAME')\n",
    "layer_drop3=tf.nn.dropout(layer_pool3,keep_prob=kp3)"
   ]
  },
  {
   "cell_type": "code",
   "execution_count": 10,
   "metadata": {
    "_uuid": "8aec0dd6baacfd008bc41ad02bbcf93afab4e951"
   },
   "outputs": [],
   "source": [
    "layer_reshp=tf.reshape(layer_pool3,shape=[-1,4*4*64])\n"
   ]
  },
  {
   "cell_type": "code",
   "execution_count": 11,
   "metadata": {
    "_uuid": "3343da6e0e6ddd104157a286f030cdb9a3343611"
   },
   "outputs": [],
   "source": [
    "layer_fc1=tf.matmul(layer_reshp,w4)+b4"
   ]
  },
  {
   "cell_type": "code",
   "execution_count": 12,
   "metadata": {
    "_uuid": "bc00ea019aa1830568e193e2b1d3f66040e35ce0"
   },
   "outputs": [],
   "source": [
    "cross_entropy=tf.reduce_mean(tf.nn.softmax_cross_entropy_with_logits_v2(logits=layer_fc1,labels=y))"
   ]
  },
  {
   "cell_type": "code",
   "execution_count": 13,
   "metadata": {
    "_uuid": "1eb7bc1ddc725b8f338fd0e83dada4f159782fb0"
   },
   "outputs": [],
   "source": [
    "optimize=tf.train.AdamOptimizer(0.01).minimize(cross_entropy)"
   ]
  },
  {
   "cell_type": "code",
   "execution_count": 14,
   "metadata": {
    "_uuid": "df1136d2b44ea48d0294cec8582d0f5f55285dc0"
   },
   "outputs": [],
   "source": [
    "prediction=tf.argmax(tf.nn.softmax(layer_fc1),axis=1)\n",
    "accuracy=tf.reduce_mean(tf.cast(tf.equal(prediction,tf.argmax(y,axis=1)),tf.float32))*100"
   ]
  },
  {
   "cell_type": "code",
   "execution_count": 15,
   "metadata": {
    "_uuid": "4680830afe4a5a57f7a76ffe8538cef73a84e9ce"
   },
   "outputs": [],
   "source": [
    "batchsize=100\n",
    "epochs=4000"
   ]
  },
  {
   "cell_type": "code",
   "execution_count": 16,
   "metadata": {
    "_uuid": "36b778f3bee25c241f03d719e68902afaac085c8"
   },
   "outputs": [],
   "source": [
    "init=tf.global_variables_initializer()"
   ]
  },
  {
   "cell_type": "code",
   "execution_count": 17,
   "metadata": {
    "_uuid": "7485fd56204806eecd7eb1b7569b4fd6c99ec1db"
   },
   "outputs": [
    {
     "name": "stdout",
     "output_type": "stream",
     "text": [
      "epoch: 0  trainloss: 9.726503  trainaccuracy: 13.65 validloss: 9.727881 validacc: 13.160001\n",
      "epoch: 100  trainloss: 1.7165297  trainaccuracy: 38.05 validloss: 1.7210981 validacc: 37.63\n",
      "epoch: 200  trainloss: 1.4501479  trainaccuracy: 47.15 validloss: 1.4689955 validacc: 47.08\n",
      "epoch: 300  trainloss: 1.373252  trainaccuracy: 52.07 validloss: 1.4012108 validacc: 50.480003\n",
      "epoch: 400  trainloss: 1.2410346  trainaccuracy: 55.79 validloss: 1.2650895 validacc: 54.85\n",
      "epoch: 500  trainloss: 1.0910106  trainaccuracy: 61.83 validloss: 1.1586404 validacc: 59.02\n",
      "epoch: 600  trainloss: 1.0546582  trainaccuracy: 62.730003 validloss: 1.1119547 validacc: 61.08\n",
      "epoch: 700  trainloss: 0.96525764  trainaccuracy: 66.22 validloss: 1.0358961 validacc: 64.090004\n",
      "epoch: 800  trainloss: 0.94763184  trainaccuracy: 66.46 validloss: 1.0407959 validacc: 63.14\n",
      "epoch: 900  trainloss: 0.90223515  trainaccuracy: 69.16 validloss: 0.9934821 validacc: 65.57\n",
      "epoch: 1000  trainloss: 0.89865685  trainaccuracy: 69.53 validloss: 0.9860938 validacc: 66.1\n",
      "epoch: 1100  trainloss: 0.879507  trainaccuracy: 69.450005 validloss: 0.9813907 validacc: 66.259995\n",
      "epoch: 1200  trainloss: 0.86828166  trainaccuracy: 70.41 validloss: 0.9736281 validacc: 66.13\n",
      "epoch: 1300  trainloss: 0.8172002  trainaccuracy: 71.94 validloss: 0.92241466 validacc: 68.6\n",
      "epoch: 1400  trainloss: 0.76681817  trainaccuracy: 73.56 validloss: 0.88545674 validacc: 70.04\n",
      "epoch: 1500  trainloss: 0.7420013  trainaccuracy: 74.55 validloss: 0.8764381 validacc: 70.04\n",
      "epoch: 1600  trainloss: 0.7625229  trainaccuracy: 73.75 validloss: 0.89715236 validacc: 69.520004\n",
      "epoch: 1700  trainloss: 0.73157775  trainaccuracy: 74.93 validloss: 0.87779963 validacc: 70.6\n",
      "epoch: 1800  trainloss: 0.7359178  trainaccuracy: 74.46 validloss: 0.8996894 validacc: 69.81\n",
      "epoch: 1900  trainloss: 0.7035661  trainaccuracy: 76.24 validloss: 0.87788683 validacc: 70.630005\n",
      "epoch: 2000  trainloss: 0.685556  trainaccuracy: 76.310005 validloss: 0.8679503 validacc: 70.850006\n",
      "epoch: 2100  trainloss: 0.6953923  trainaccuracy: 76.39 validloss: 0.87776935 validacc: 70.590004\n",
      "epoch: 2200  trainloss: 0.67609  trainaccuracy: 77.44 validloss: 0.8692623 validacc: 71.56\n",
      "epoch: 2300  trainloss: 0.65652937  trainaccuracy: 77.840004 validloss: 0.8522631 validacc: 71.82\n",
      "epoch: 2400  trainloss: 0.6413873  trainaccuracy: 78.28 validloss: 0.85545486 validacc: 71.48\n",
      "epoch: 2500  trainloss: 0.6324671  trainaccuracy: 78.58 validloss: 0.8541382 validacc: 71.450005\n",
      "epoch: 2600  trainloss: 0.5894347  trainaccuracy: 79.75 validloss: 0.8245715 validacc: 72.7\n",
      "epoch: 2700  trainloss: 0.60933447  trainaccuracy: 79.07 validloss: 0.8376619 validacc: 72.119995\n",
      "epoch: 2800  trainloss: 0.61113006  trainaccuracy: 79.149994 validloss: 0.8313625 validacc: 72.31\n",
      "epoch: 2900  trainloss: 0.58670586  trainaccuracy: 80.22 validloss: 0.8339459 validacc: 72.799995\n",
      "epoch: 3000  trainloss: 0.59929246  trainaccuracy: 79.53 validloss: 0.8554184 validacc: 71.62\n",
      "epoch: 3100  trainloss: 0.5804419  trainaccuracy: 80.21 validloss: 0.8655781 validacc: 72.19\n",
      "epoch: 3200  trainloss: 0.5762104  trainaccuracy: 80.38 validloss: 0.84467596 validacc: 72.71\n",
      "epoch: 3300  trainloss: 0.5909564  trainaccuracy: 79.49 validloss: 0.8987825 validacc: 71.84\n",
      "epoch: 3400  trainloss: 0.5385649  trainaccuracy: 81.55 validloss: 0.8209833 validacc: 72.95\n",
      "epoch: 3500  trainloss: 0.55769765  trainaccuracy: 81.05 validloss: 0.8320745 validacc: 73.1\n",
      "epoch: 3600  trainloss: 0.540345  trainaccuracy: 81.78 validloss: 0.8495463 validacc: 72.79\n",
      "epoch: 3700  trainloss: 0.55612844  trainaccuracy: 81.4 validloss: 0.8977165 validacc: 72.13\n",
      "epoch: 3800  trainloss: 0.49871075  trainaccuracy: 83.03 validloss: 0.82781106 validacc: 73.15\n",
      "epoch: 3900  trainloss: 0.53446335  trainaccuracy: 81.82 validloss: 0.8740672 validacc: 71.93\n"
     ]
    }
   ],
   "source": [
    "train_loss=[]\n",
    "valid_loss=[]\n",
    "train_acc=[]\n",
    "valid_acc=[]\n",
    "with tf.Session() as s:\n",
    "    s.run(init)\n",
    "    for i in range(epochs):\n",
    "        index=np.random.choice(Ntrain,batchsize,replace=False)\n",
    "        batch_x=xtrain1[index]\n",
    "        batch_y=ytrain1[index]\n",
    "        feeddict={x:batch_x,y:batch_y,kp1:1.0,kp2:1.0,kp3:0.8}\n",
    "        batch_loss,_,batchacc=s.run([cross_entropy,optimize,accuracy],feed_dict=feeddict)\n",
    "        if (i%10)==0:\n",
    "            \n",
    "            # Computing Train accuracy and loss\n",
    "            index1=np.random.choice(Ntrain,10000,replace=False)\n",
    "            batch_train_x=xtrain1[index1]\n",
    "            batch_train_y=ytrain1[index1]\n",
    "            feeddict1={x:batch_train_x,y:batch_train_y,kp1:1.0,kp2:1.0,kp3:1.0}\n",
    "            trainloss,trainacc=s.run([cross_entropy,accuracy],feed_dict=feeddict1)\n",
    "            train_loss.append(trainloss)\n",
    "            train_acc.append(trainacc)\n",
    "            \n",
    "            #Computing validation Accuracy and loss\n",
    "            \n",
    "            batch_valid_x=xvalid1\n",
    "            batch_valid_y=yvalid1\n",
    "            feeddict2={x:batch_valid_x,y:batch_valid_y,kp1:1.0,kp2:1.0,kp3:1.0}\n",
    "            validloss,validacc=s.run([cross_entropy,accuracy],feed_dict=feeddict2)\n",
    "            valid_loss.append(validloss)\n",
    "            valid_acc.append(validacc)\n",
    "            \n",
    "            if i%100==0:\n",
    "                print('epoch:',i,' trainloss:',trainloss,' trainaccuracy:',trainacc,'validloss:',validloss,'validacc:',validacc)"
   ]
  },
  {
   "cell_type": "code",
   "execution_count": 18,
   "metadata": {
    "_uuid": "1a0e790909a9a22e42f2a4406600dcc15d4e9717"
   },
   "outputs": [],
   "source": [
    "#During Analysis if weights in model are limited less and we are using dropout then it is going to hurt model accuracy instead of\n",
    "#improving it\n",
    "# it is better to apply dropout to layer with large number of weights as that layer has more tendency to overfit\n",
    "#during prediction and val acc, train acc calculations we shouldnt apply dropout to model so we set keep prob to all layers as 1\n",
    "# Clearly Dropout and BatchNormalization CNN performs better than Normal deep CNN in terms of accuracy and loss"
   ]
  },
  {
   "cell_type": "code",
   "execution_count": 19,
   "metadata": {
    "_uuid": "b13b5b0e90c43fec0f71e379f9fb67918062ed2b"
   },
   "outputs": [
    {
     "data": {
      "text/plain": [
       "<matplotlib.legend.Legend at 0x7f783a7be128>"
      ]
     },
     "execution_count": 19,
     "metadata": {},
     "output_type": "execute_result"
    },
    {
     "data": {
      "image/png": "[encoded data removed]",
      "text/plain": [
       "<Figure size 432x288 with 1 Axes>"
      ]
     },
     "metadata": {},
     "output_type": "display_data"
    }
   ],
   "source": [
    "plt.plot(train_acc,label='train_acc')\n",
    "plt.plot(valid_acc,label='valid_acc')\n",
    "plt.xlabel('epochs')\n",
    "plt.ylabel('accuracy')\n",
    "plt.legend()"
   ]
  },
  {
   "cell_type": "code",
   "execution_count": 20,
   "metadata": {
    "_uuid": "132539557669097d01c36216c98a3ee4af63c925"
   },
   "outputs": [
    {
     "data": {
      "text/plain": [
       "<matplotlib.legend.Legend at 0x7f783a6fa748>"
      ]
     },
     "execution_count": 20,
     "metadata": {},
     "output_type": "execute_result"
    },
    {
     "data": {
      "image/png": "[encoded data removed]",
      "text/plain": [
       "<Figure size 432x288 with 1 Axes>"
      ]
     },
     "metadata": {},
     "output_type": "display_data"
    }
   ],
   "source": [
    "plt.plot(train_loss,label='train_loss')\n",
    "plt.plot(valid_loss,label='valid_loss')\n",
    "plt.xlabel('epochs')\n",
    "plt.ylabel('loss')\n",
    "plt.legend()"
   ]
  },
  {
   "cell_type": "code",
   "execution_count": 21,
   "metadata": {
    "_uuid": "89b146c99780f611ff8432cd0eac58ed485ad0ea"
   },
   "outputs": [],
   "source": []
  }
 ],
 "metadata": {
  "kernelspec": {
   "display_name": "Python 3",
   "language": "python",
   "name": "python3"
  },
  "language_info": {
   "codemirror_mode": {
    "name": "ipython",
    "version": 3
   },
   "file_extension": ".py",
   "mimetype": "text/x-python",
   "name": "python",
   "nbconvert_exporter": "python",
   "pygments_lexer": "ipython3",
   "version": "3.6.6"
  }
 },
 "nbformat": 4,
 "nbformat_minor": 1
}
