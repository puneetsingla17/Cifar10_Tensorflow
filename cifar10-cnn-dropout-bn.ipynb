{
 "cells": [
  {
   "cell_type": "code",
   "execution_count": 1,
   "metadata": {
    "_cell_guid": "b1076dfc-b9ad-4769-8c92-a6c4dae69d19",
    "_uuid": "8f2839f25d086af736a60e9eeb907d3b93b6e0e5"
   },
   "outputs": [
    {
     "name": "stdout",
     "output_type": "stream",
     "text": [
      "[]\n"
     ]
    },
    {
     "name": "stderr",
     "output_type": "stream",
     "text": [
      "Using TensorFlow backend.\n"
     ]
    }
   ],
   "source": [
    "# This Python 3 environment comes with many helpful analytics libraries installed\n",
    "# It is defined by the kaggle/python docker image: https://github.com/kaggle/docker-python\n",
    "# For example, here's several helpful packages to load in \n",
    "\n",
    "import numpy as np # linear algebra\n",
    "import pandas as pd # data processing, CSV file I/O (e.g. pd.read_csv)\n",
    "import tensorflow as tf\n",
    "from keras.datasets import cifar10\n",
    "from keras.utils import to_categorical\n",
    "# Input data files are available in the \"../input/\" directory.\n",
    "# For example, running this (by clicking run or pressing Shift+Enter) will list the files in the input directory\n",
    "import matplotlib.pyplot as plt\n",
    "import os\n",
    "print(os.listdir(\"../input\"))\n",
    "\n",
    "# Any results you write to the current directory are saved as output."
   ]
  },
  {
   "cell_type": "code",
   "execution_count": 2,
   "metadata": {
    "_cell_guid": "79c7e3d0-c299-4dcb-8224-4455121ee9b0",
    "_uuid": "d629ff2d2480ee46fbb7e2d37f6b5fab8052498a"
   },
   "outputs": [
    {
     "name": "stdout",
     "output_type": "stream",
     "text": [
      "Downloading data from https://www.cs.toronto.edu/~kriz/cifar-10-python.tar.gz\n",
      "170500096/170498071 [==============================] - 63s 0us/step\n"
     ]
    }
   ],
   "source": [
    "(xtrain,ytrain),(xvalid,yvalid)=cifar10.load_data()"
   ]
  },
  {
   "cell_type": "code",
   "execution_count": 3,
   "metadata": {
    "_uuid": "b1a69d3eeb8623f0c50ba89691ca2f21672a51bd"
   },
   "outputs": [],
   "source": [
    "xtrain1=xtrain.astype(np.float32)/255\n",
    "xvalid1=xvalid.astype(np.float32)/255\n",
    "ytrain1=to_categorical(ytrain,10)\n",
    "yvalid1=to_categorical(yvalid,10)"
   ]
  },
  {
   "cell_type": "code",
   "execution_count": 4,
   "metadata": {
    "_uuid": "a8e76323ef55535388c1b6b12740cc0d7614728d"
   },
   "outputs": [],
   "source": [
    "imgshape=xtrain1.shape[1:]\n",
    "Ntrain=len(xtrain1)\n",
    "Nvalid=len(xvalid1)"
   ]
  },
  {
   "cell_type": "code",
   "execution_count": 5,
   "metadata": {
    "_uuid": "4ec74e93757db58b81db2ffd2d5f9040240dc736"
   },
   "outputs": [],
   "source": [
    "x=tf.placeholder(tf.float32,shape=[None,32,32,3])\n",
    "y=tf.placeholder(tf.float32,shape=[None,10])"
   ]
  },
  {
   "cell_type": "code",
   "execution_count": 6,
   "metadata": {
    "_uuid": "846cf322d32afa668ee96a69ad4a6d31601dfab5"
   },
   "outputs": [],
   "source": [
    "w1=tf.Variable(tf.random_normal(shape=[4,4,3,16],stddev=0.1))\n",
    "b1=tf.Variable(tf.random_normal(shape=[16,],stddev=0.1))\n",
    "w2=tf.Variable(tf.random_normal(shape=[4,4,16,32],stddev=0.1))\n",
    "b2=tf.Variable(tf.random_normal(shape=[32,],stddev=0.1))\n",
    "w3=tf.Variable(tf.random_normal(shape=[4,4,32,64],stddev=0.1))\n",
    "b3=tf.Variable(tf.random_normal(shape=[64,],stddev=0.1))\n",
    "w4=tf.Variable(tf.random_normal(shape=[1024,10],stddev=0.1))\n",
    "b4=tf.Variable(tf.random_normal(shape=[10,],stddev=0.1))\n",
    "kp1=tf.placeholder(tf.float32)\n",
    "kp2=tf.placeholder(tf.float32)\n",
    "kp3=tf.placeholder(tf.float32)\n",
    "#kp4=tf.placeholder(tf.float32)"
   ]
  },
  {
   "cell_type": "code",
   "execution_count": 7,
   "metadata": {
    "_uuid": "fc709d3a8604c2690e5cd6d73a95f3aeb705192d"
   },
   "outputs": [],
   "source": [
    "layer_cn1=tf.nn.conv2d(x,w1,strides=[1,1,1,1],padding='SAME')+b1\n",
    "layer_cn1=tf.nn.relu(tf.layers.batch_normalization(layer_cn1,training=True))\n",
    "layer_pool1=tf.nn.max_pool(layer_cn1,ksize=[1,2,2,1],strides=[1,2,2,1],padding='SAME')\n",
    "layer_drop1=tf.nn.dropout(layer_pool1,keep_prob=kp1)"
   ]
  },
  {
   "cell_type": "code",
   "execution_count": 8,
   "metadata": {
    "_uuid": "53860a3807299e665378cd9b620c76cbf4dace52"
   },
   "outputs": [],
   "source": [
    "layer_cn2=tf.nn.relu(tf.layers.batch_normalization(tf.nn.conv2d(layer_drop1,w2,strides=[1,1,1,1],padding='SAME')+b2,training=True))\n",
    "layer_pool2=tf.nn.max_pool(layer_cn2,ksize=[1,2,2,1],strides=[1,2,2,1],padding='SAME')\n",
    "layer_drop2=tf.nn.dropout(layer_pool2,keep_prob=kp2)"
   ]
  },
  {
   "cell_type": "code",
   "execution_count": 9,
   "metadata": {
    "_uuid": "46ad221957a61ab317187194286cd55e95207f60"
   },
   "outputs": [],
   "source": [
    "layer_cn3=tf.nn.relu(tf.layers.batch_normalization(tf.nn.conv2d(layer_drop2,w3,strides=[1,1,1,1],padding='SAME')+b3,training=True))\n",
    "layer_pool3=tf.nn.max_pool(layer_cn3,ksize=[1,2,2,1],strides=[1,2,2,1],padding='SAME')\n",
    "layer_drop3=tf.nn.dropout(layer_pool3,keep_prob=kp3)"
   ]
  },
  {
   "cell_type": "code",
   "execution_count": 10,
   "metadata": {
    "_uuid": "8aec0dd6baacfd008bc41ad02bbcf93afab4e951"
   },
   "outputs": [],
   "source": [
    "layer_reshp=tf.reshape(layer_pool3,shape=[-1,4*4*64])\n"
   ]
  },
  {
   "cell_type": "code",
   "execution_count": 11,
   "metadata": {
    "_uuid": "3343da6e0e6ddd104157a286f030cdb9a3343611"
   },
   "outputs": [],
   "source": [
    "layer_fc1=tf.matmul(layer_reshp,w4)+b4"
   ]
  },
  {
   "cell_type": "code",
   "execution_count": 12,
   "metadata": {
    "_uuid": "bc00ea019aa1830568e193e2b1d3f66040e35ce0"
   },
   "outputs": [],
   "source": [
    "cross_entropy=tf.reduce_mean(tf.nn.softmax_cross_entropy_with_logits_v2(logits=layer_fc1,labels=y))"
   ]
  },
  {
   "cell_type": "code",
   "execution_count": 13,
   "metadata": {
    "_uuid": "1eb7bc1ddc725b8f338fd0e83dada4f159782fb0"
   },
   "outputs": [],
   "source": [
    "optimize=tf.train.AdamOptimizer(0.01).minimize(cross_entropy)"
   ]
  },
  {
   "cell_type": "code",
   "execution_count": 14,
   "metadata": {
    "_uuid": "df1136d2b44ea48d0294cec8582d0f5f55285dc0"
   },
   "outputs": [],
   "source": [
    "prediction=tf.argmax(tf.nn.softmax(layer_fc1),axis=1)\n",
    "accuracy=tf.reduce_mean(tf.cast(tf.equal(prediction,tf.argmax(y,axis=1)),tf.float32))*100"
   ]
  },
  {
   "cell_type": "code",
   "execution_count": 15,
   "metadata": {
    "_uuid": "4680830afe4a5a57f7a76ffe8538cef73a84e9ce"
   },
   "outputs": [],
   "source": [
    "batchsize=100\n",
    "epochs=4000"
   ]
  },
  {
   "cell_type": "code",
   "execution_count": 16,
   "metadata": {
    "_uuid": "36b778f3bee25c241f03d719e68902afaac085c8"
   },
   "outputs": [],
   "source": [
    "init=tf.global_variables_initializer()"
   ]
  },
  {
   "cell_type": "code",
   "execution_count": 17,
   "metadata": {
    "_uuid": "7485fd56204806eecd7eb1b7569b4fd6c99ec1db"
   },
   "outputs": [
    {
     "name": "stdout",
     "output_type": "stream",
     "text": [
      "epoch: 0  trainloss: 8.0345955  trainaccuracy: 14.290001 validloss: 8.162683 validacc: 14.55\n",
      "epoch: 100  trainloss: 1.6699607  trainaccuracy: 40.2 validloss: 1.6682234 validacc: 40.67\n",
      "epoch: 200  trainloss: 1.5583824  trainaccuracy: 46.39 validloss: 1.564347 validacc: 46.17\n",
      "epoch: 300  trainloss: 1.3078874  trainaccuracy: 52.539997 validloss: 1.3186151 validacc: 52.69\n",
      "epoch: 400  trainloss: 1.2301773  trainaccuracy: 56.32 validloss: 1.2742983 validacc: 54.3\n",
      "epoch: 500  trainloss: 1.161653  trainaccuracy: 59.34 validloss: 1.2007842 validacc: 57.620003\n",
      "epoch: 600  trainloss: 1.0578408  trainaccuracy: 63.08 validloss: 1.0956907 validacc: 61.97\n",
      "epoch: 700  trainloss: 0.99032694  trainaccuracy: 65.16 validloss: 1.0577396 validacc: 62.870003\n",
      "epoch: 800  trainloss: 0.9674494  trainaccuracy: 65.69 validloss: 1.0443764 validacc: 62.739998\n",
      "epoch: 900  trainloss: 0.9596149  trainaccuracy: 65.93 validloss: 1.016894 validacc: 64.1\n",
      "epoch: 1000  trainloss: 0.90510625  trainaccuracy: 68.51 validloss: 0.96892405 validacc: 66.25\n",
      "epoch: 1100  trainloss: 0.8510768  trainaccuracy: 70.62 validloss: 0.9432529 validacc: 67.35\n",
      "epoch: 1200  trainloss: 0.8022257  trainaccuracy: 72.32 validloss: 0.91087615 validacc: 68.52\n",
      "epoch: 1300  trainloss: 0.76074725  trainaccuracy: 73.92 validloss: 0.88957655 validacc: 69.340004\n",
      "epoch: 1400  trainloss: 0.76246893  trainaccuracy: 73.43 validloss: 0.8991768 validacc: 69.270004\n",
      "epoch: 1500  trainloss: 0.76851076  trainaccuracy: 73.94 validloss: 0.9001578 validacc: 69.29\n",
      "epoch: 1600  trainloss: 0.73232937  trainaccuracy: 74.85 validloss: 0.8906586 validacc: 69.82\n",
      "epoch: 1700  trainloss: 0.6945087  trainaccuracy: 76.29 validloss: 0.87416387 validacc: 70.04\n",
      "epoch: 1800  trainloss: 0.771151  trainaccuracy: 73.509995 validloss: 0.92806846 validacc: 68.74\n",
      "epoch: 1900  trainloss: 0.6599953  trainaccuracy: 77.03 validloss: 0.84059745 validacc: 71.69\n",
      "epoch: 2000  trainloss: 0.6634169  trainaccuracy: 77.64 validloss: 0.8525074 validacc: 71.100006\n",
      "epoch: 2100  trainloss: 0.6247657  trainaccuracy: 77.99 validloss: 0.8403319 validacc: 71.42\n",
      "epoch: 2200  trainloss: 0.6622367  trainaccuracy: 77.33 validloss: 0.86801755 validacc: 70.78\n",
      "epoch: 2300  trainloss: 0.6508831  trainaccuracy: 77.68 validloss: 0.8499994 validacc: 71.16\n",
      "epoch: 2400  trainloss: 0.6188537  trainaccuracy: 78.57 validloss: 0.84084356 validacc: 71.54\n",
      "epoch: 2500  trainloss: 0.62471026  trainaccuracy: 78.61 validloss: 0.86958474 validacc: 71.46\n",
      "epoch: 2600  trainloss: 0.62188554  trainaccuracy: 78.829994 validloss: 0.8609501 validacc: 72.0\n",
      "epoch: 2700  trainloss: 0.57547927  trainaccuracy: 79.95 validloss: 0.828026 validacc: 71.89\n",
      "epoch: 2800  trainloss: 0.58152694  trainaccuracy: 79.63 validloss: 0.842665 validacc: 71.87\n",
      "epoch: 2900  trainloss: 0.5687246  trainaccuracy: 80.47 validloss: 0.8241123 validacc: 72.75\n",
      "epoch: 3000  trainloss: 0.59700453  trainaccuracy: 79.53 validloss: 0.8850215 validacc: 71.450005\n",
      "epoch: 3100  trainloss: 0.53687465  trainaccuracy: 81.69 validloss: 0.8268457 validacc: 72.52\n",
      "epoch: 3200  trainloss: 0.5743769  trainaccuracy: 80.369995 validloss: 0.86352843 validacc: 71.74\n",
      "epoch: 3300  trainloss: 0.531729  trainaccuracy: 81.75 validloss: 0.8686949 validacc: 71.53\n",
      "epoch: 3400  trainloss: 0.51602817  trainaccuracy: 82.69 validloss: 0.83000076 validacc: 73.13\n",
      "epoch: 3500  trainloss: 0.5090104  trainaccuracy: 82.83 validloss: 0.8420123 validacc: 73.25\n",
      "epoch: 3600  trainloss: 0.49811572  trainaccuracy: 83.08 validloss: 0.83782285 validacc: 72.47\n",
      "epoch: 3700  trainloss: 0.48634374  trainaccuracy: 83.58 validloss: 0.8411016 validacc: 73.049995\n",
      "epoch: 3800  trainloss: 0.4854541  trainaccuracy: 83.21 validloss: 0.85263264 validacc: 72.79\n",
      "epoch: 3900  trainloss: 0.50026184  trainaccuracy: 83.01 validloss: 0.8575206 validacc: 73.14\n"
     ]
    }
   ],
   "source": [
    "train_loss=[]\n",
    "valid_loss=[]\n",
    "train_acc=[]\n",
    "valid_acc=[]\n",
    "with tf.Session() as s:\n",
    "    s.run(init)\n",
    "    for i in range(epochs):\n",
    "        index=np.random.choice(Ntrain,batchsize,replace=False)\n",
    "        batch_x=xtrain1[index]\n",
    "        batch_y=ytrain1[index]\n",
    "        feeddict={x:batch_x,y:batch_y,kp1:1.0,kp2:1.0,kp3:0.8}\n",
    "        batch_loss,_,batchacc=s.run([cross_entropy,optimize,accuracy],feed_dict=feeddict)\n",
    "        if (i%10)==0:\n",
    "            \n",
    "            # Computing Train accuracy and loss\n",
    "            index1=np.random.choice(Ntrain,10000,replace=False)\n",
    "            batch_train_x=xtrain1[index1]\n",
    "            batch_train_y=ytrain1[index1]\n",
    "            feeddict1={x:batch_train_x,y:batch_train_y,kp1:1.0,kp2:1.0,kp3:1.0}\n",
    "            trainloss,trainacc=s.run([cross_entropy,accuracy],feed_dict=feeddict1)\n",
    "            train_loss.append(trainloss)\n",
    "            train_acc.append(trainacc)\n",
    "            \n",
    "            #Computing validation Accuracy and loss\n",
    "            \n",
    "            batch_valid_x=xvalid1\n",
    "            batch_valid_y=yvalid1\n",
    "            feeddict2={x:batch_valid_x,y:batch_valid_y,kp1:1.0,kp2:1.0,kp3:1.0}\n",
    "            validloss,validacc=s.run([cross_entropy,accuracy],feed_dict=feeddict2)\n",
    "            valid_loss.append(validloss)\n",
    "            valid_acc.append(validacc)\n",
    "            \n",
    "            if i%100==0:\n",
    "                print('epoch:',i,' trainloss:',trainloss,' trainaccuracy:',trainacc,'validloss:',validloss,'validacc:',validacc)"
   ]
  },
  {
   "cell_type": "code",
   "execution_count": 18,
   "metadata": {
    "_uuid": "1a0e790909a9a22e42f2a4406600dcc15d4e9717"
   },
   "outputs": [],
   "source": [
    "#During Analysis if weights in model are limited less and we are using dropout then it is going to hurt model accuracy instead of\n",
    "#improving it\n",
    "# it is better to apply dropout to layer with large number of weights as that layer has more tendency to overfit\n",
    "#during prediction and val acc, train acc calculations we shouldnt apply dropout to model so we set keep prob to all layers as 1\n",
    "# Clearly Dropout and BatchNormalization CNN performs better than Normal deep CNN in terms of accuracy and loss"
   ]
  },
  {
   "cell_type": "code",
   "execution_count": 19,
   "metadata": {
    "_uuid": "b13b5b0e90c43fec0f71e379f9fb67918062ed2b"
   },
   "outputs": [
    {
     "data": {
      "text/plain": [
       "<matplotlib.legend.Legend at 0x7f8873de10b8>"
      ]
     },
     "execution_count": 19,
     "metadata": {},
     "output_type": "execute_result"
    },
    {
     "data": {
      "image/png": "[encoded data removed]",
      "text/plain": [
       "<Figure size 432x288 with 1 Axes>"
      ]
     },
     "metadata": {},
     "output_type": "display_data"
    }
   ],
   "source": [
    "plt.plot(train_acc,label='train_acc')\n",
    "plt.plot(valid_acc,label='valid_acc')\n",
    "plt.xlabel('epochs')\n",
    "plt.ylabel('accuracy')\n",
    "plt.legend()"
   ]
  },
  {
   "cell_type": "code",
   "execution_count": 20,
   "metadata": {
    "_uuid": "132539557669097d01c36216c98a3ee4af63c925"
   },
   "outputs": [
    {
     "data": {
      "text/plain": [
       "<matplotlib.legend.Legend at 0x7f8873d10da0>"
      ]
     },
     "execution_count": 20,
     "metadata": {},
     "output_type": "execute_result"
    },
    {
     "data": {
      "image/png": "[encoded data removed]",
      "text/plain": [
       "<Figure size 432x288 with 1 Axes>"
      ]
     },
     "metadata": {},
     "output_type": "display_data"
    }
   ],
   "source": [
    "plt.plot(train_loss,label='train_loss')\n",
    "plt.plot(valid_loss,label='valid_loss')\n",
    "plt.xlabel('epochs')\n",
    "plt.ylabel('loss')\n",
    "plt.legend()"
   ]
  },
  {
   "cell_type": "code",
   "execution_count": 21,
   "metadata": {
    "_uuid": "89b146c99780f611ff8432cd0eac58ed485ad0ea"
   },
   "outputs": [],
   "source": []
  }
 ],
 "metadata": {
  "kernelspec": {
   "display_name": "Python 3",
   "language": "python",
   "name": "python3"
  },
  "language_info": {
   "codemirror_mode": {
    "name": "ipython",
    "version": 3
   },
   "file_extension": ".py",
   "mimetype": "text/x-python",
   "name": "python",
   "nbconvert_exporter": "python",
   "pygments_lexer": "ipython3",
   "version": "3.6.6"
  }
 },
 "nbformat": 4,
 "nbformat_minor": 1
}
