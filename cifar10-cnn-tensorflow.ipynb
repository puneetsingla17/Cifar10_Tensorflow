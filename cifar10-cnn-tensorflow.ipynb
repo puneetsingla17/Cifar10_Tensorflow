{
 "cells": [
  {
   "cell_type": "code",
   "execution_count": 1,
   "metadata": {
    "_cell_guid": "b1076dfc-b9ad-4769-8c92-a6c4dae69d19",
    "_uuid": "8f2839f25d086af736a60e9eeb907d3b93b6e0e5"
   },
   "outputs": [
    {
     "name": "stdout",
     "output_type": "stream",
     "text": [
      "[]\n"
     ]
    },
    {
     "name": "stderr",
     "output_type": "stream",
     "text": [
      "Using TensorFlow backend.\n"
     ]
    }
   ],
   "source": [
    "# This Python 3 environment comes with many helpful analytics libraries installed\n",
    "# It is defined by the kaggle/python docker image: https://github.com/kaggle/docker-python\n",
    "# For example, here's several helpful packages to load in \n",
    "\n",
    "import numpy as np # linear algebra\n",
    "import pandas as pd # data processing, CSV file I/O (e.g. pd.read_csv)\n",
    "import tensorflow as tf\n",
    "# Input data files are available in the \"../input/\" directory.\n",
    "# For example, running this (by clicking run or pressing Shift+Enter) will list the files in the input directory\n",
    "from keras.datasets import cifar10\n",
    "import matplotlib.pyplot as plt\n",
    "import os\n",
    "print(os.listdir(\"../input\"))\n",
    "from keras.utils import to_categorical\n",
    "# Any results you write to the current directory are saved as output."
   ]
  },
  {
   "cell_type": "code",
   "execution_count": 2,
   "metadata": {
    "_cell_guid": "79c7e3d0-c299-4dcb-8224-4455121ee9b0",
    "_uuid": "d629ff2d2480ee46fbb7e2d37f6b5fab8052498a"
   },
   "outputs": [
    {
     "name": "stdout",
     "output_type": "stream",
     "text": [
      "Downloading data from https://www.cs.toronto.edu/~kriz/cifar-10-python.tar.gz\n",
      "170500096/170498071 [==============================] - 42s 0us/step\n"
     ]
    }
   ],
   "source": [
    "(xtrain,ytrain),(xvalid,yvalid)=cifar10.load_data()"
   ]
  },
  {
   "cell_type": "code",
   "execution_count": 3,
   "metadata": {
    "_uuid": "65980994df1f0d025b97549061ab03f1fa8a6d79"
   },
   "outputs": [],
   "source": [
    "xtrain1=xtrain.astype(np.float32)/255\n",
    "xvalid1=xvalid.astype(np.float32)/255\n",
    "ytrain1=to_categorical(ytrain,10)\n",
    "yvalid1=to_categorical(yvalid,10)"
   ]
  },
  {
   "cell_type": "code",
   "execution_count": 4,
   "metadata": {
    "_uuid": "adad6627261a3cac661bbfd8f267ee9605ac313e"
   },
   "outputs": [],
   "source": [
    "imgshape=xtrain1.shape[1:]\n",
    "Ntrain=len(xtrain1)\n",
    "Nvalid=len(xvalid1)"
   ]
  },
  {
   "cell_type": "code",
   "execution_count": 5,
   "metadata": {
    "_uuid": "325aae0fa3335f6eefde959106c0855a88949d23"
   },
   "outputs": [],
   "source": [
    "x=tf.placeholder(tf.float32,shape=[None,32,32,3])\n",
    "y=tf.placeholder(tf.float32,shape=[None,10])"
   ]
  },
  {
   "cell_type": "code",
   "execution_count": 6,
   "metadata": {
    "_uuid": "d33f73842bcd3076a86e07e7450d999b2a34e01c"
   },
   "outputs": [],
   "source": [
    "w1=tf.Variable(tf.random_normal(shape=[4,4,3,16],stddev=0.1))\n",
    "b1=tf.Variable(tf.random_normal(shape=[16,],stddev=0.1))\n",
    "w2=tf.Variable(tf.random_normal(shape=[4,4,16,32],stddev=0.1))\n",
    "b2=tf.Variable(tf.random_normal(shape=[32,],stddev=0.1))\n",
    "w3=tf.Variable(tf.random_normal(shape=[4,4,32,64],stddev=0.1))\n",
    "b3=tf.Variable(tf.random_normal(shape=[64,],stddev=0.1))\n",
    "w4=tf.Variable(tf.random_normal(shape=[1024,10],stddev=0.1))\n",
    "b4=tf.Variable(tf.random_normal(shape=[10,],stddev=0.1))"
   ]
  },
  {
   "cell_type": "code",
   "execution_count": 7,
   "metadata": {
    "_uuid": "ee115bb8a917eb703d5a6e4f297a35114d7819ff"
   },
   "outputs": [],
   "source": [
    "layer_cn1=tf.nn.relu(tf.nn.conv2d(x,w1,strides=[1,1,1,1],padding='SAME')+b1)\n",
    "layer_pool1=tf.nn.max_pool(layer_cn1,ksize=[1,2,2,1],strides=[1,2,2,1],padding='SAME')"
   ]
  },
  {
   "cell_type": "code",
   "execution_count": 8,
   "metadata": {
    "_uuid": "5e9e50d143d292e46d4a8a0fa6d4f4ade0d34882"
   },
   "outputs": [],
   "source": [
    "layer_cn2=tf.nn.relu(tf.nn.conv2d(layer_pool1,w2,strides=[1,1,1,1],padding='SAME')+b2)\n",
    "layer_pool2=tf.nn.max_pool(layer_cn2,ksize=[1,2,2,1],strides=[1,2,2,1],padding='SAME')"
   ]
  },
  {
   "cell_type": "code",
   "execution_count": 9,
   "metadata": {
    "_uuid": "cd846dfbfba4b96e9894b01cf719c550e86cd215"
   },
   "outputs": [],
   "source": [
    "layer_cn3=tf.nn.relu(tf.nn.conv2d(layer_pool2,w3,strides=[1,1,1,1],padding='SAME')+b3)\n",
    "layer_pool3=tf.nn.max_pool(layer_cn3,ksize=[1,2,2,1],strides=[1,2,2,1],padding='SAME')"
   ]
  },
  {
   "cell_type": "code",
   "execution_count": 10,
   "metadata": {
    "_uuid": "66d16e3090619649d25361363d5db1f4f3a681c4"
   },
   "outputs": [],
   "source": [
    "layer_reshp=tf.reshape(layer_pool3,shape=[-1,4*4*64])"
   ]
  },
  {
   "cell_type": "code",
   "execution_count": 11,
   "metadata": {
    "_uuid": "8f1a57ae8708aebd143fe99c9c71e53043df558a"
   },
   "outputs": [],
   "source": [
    "layer_fc1=tf.matmul(layer_reshp,w4)+b4"
   ]
  },
  {
   "cell_type": "code",
   "execution_count": 12,
   "metadata": {
    "_uuid": "1d1c416baed1f4d46b503cb3f29e6e9137cab01b"
   },
   "outputs": [],
   "source": [
    "cross_entropy=tf.reduce_mean(tf.nn.softmax_cross_entropy_with_logits_v2(logits=layer_fc1,labels=y))"
   ]
  },
  {
   "cell_type": "code",
   "execution_count": 13,
   "metadata": {
    "_uuid": "e28d93000e683a942ba74096bda0be7cc1d06623"
   },
   "outputs": [],
   "source": [
    "optimize=tf.train.AdamOptimizer(0.01).minimize(cross_entropy)"
   ]
  },
  {
   "cell_type": "code",
   "execution_count": 14,
   "metadata": {
    "_uuid": "ddfcd75ae8758d43fe1bee42d4933c44f9fbb5fe"
   },
   "outputs": [],
   "source": [
    "prediction=tf.argmax(tf.nn.softmax(layer_fc1),axis=1)\n",
    "accuracy=tf.reduce_mean(tf.cast(tf.equal(prediction,tf.argmax(y,axis=1)),tf.float32))*100"
   ]
  },
  {
   "cell_type": "code",
   "execution_count": 15,
   "metadata": {
    "_uuid": "0ed4eae0b96895adfa0b1f2c7b0318ce7251ca15"
   },
   "outputs": [],
   "source": [
    "batchsize=100\n",
    "epochs=4000\n"
   ]
  },
  {
   "cell_type": "code",
   "execution_count": 16,
   "metadata": {
    "_uuid": "9dc1302ca3e1a8b723402c4b94b18d846c64d563"
   },
   "outputs": [
    {
     "data": {
      "text/plain": [
       "10000"
      ]
     },
     "execution_count": 16,
     "metadata": {},
     "output_type": "execute_result"
    }
   ],
   "source": [
    "Nvalid"
   ]
  },
  {
   "cell_type": "code",
   "execution_count": 17,
   "metadata": {
    "_uuid": "41c251cc5342dce8fcb139bd7103bba2057efb3f"
   },
   "outputs": [],
   "source": [
    "init=tf.global_variables_initializer()"
   ]
  },
  {
   "cell_type": "code",
   "execution_count": 18,
   "metadata": {
    "_uuid": "11d3e915fe99c27687c28f8f268c04269fd1b028"
   },
   "outputs": [
    {
     "name": "stdout",
     "output_type": "stream",
     "text": [
      "epoch: 0  trainloss: 5.141457  trainaccuracy: 10.28 validloss: 5.1773906 validacc: 10.28\n",
      "epoch: 100  trainloss: 1.753355  trainaccuracy: 37.21 validloss: 1.7589236 validacc: 37.28\n",
      "epoch: 200  trainloss: 1.5919155  trainaccuracy: 43.71 validloss: 1.6002473 validacc: 42.579998\n",
      "epoch: 300  trainloss: 1.6023469  trainaccuracy: 42.06 validloss: 1.6154964 validacc: 41.61\n",
      "epoch: 400  trainloss: 1.520708  trainaccuracy: 45.989998 validloss: 1.5300535 validacc: 45.07\n",
      "epoch: 500  trainloss: 1.483391  trainaccuracy: 47.5 validloss: 1.5108769 validacc: 45.899998\n",
      "epoch: 600  trainloss: 1.4136773  trainaccuracy: 49.71 validloss: 1.4326617 validacc: 48.29\n",
      "epoch: 700  trainloss: 1.4775631  trainaccuracy: 46.579998 validloss: 1.4976712 validacc: 46.02\n",
      "epoch: 800  trainloss: 1.4103074  trainaccuracy: 50.04 validloss: 1.4435343 validacc: 48.879997\n",
      "epoch: 900  trainloss: 1.3364319  trainaccuracy: 52.45 validloss: 1.4021479 validacc: 50.199997\n",
      "epoch: 1000  trainloss: 1.3202498  trainaccuracy: 53.01 validloss: 1.3762442 validacc: 50.379997\n",
      "epoch: 1100  trainloss: 1.3231387  trainaccuracy: 53.109997 validloss: 1.4026313 validacc: 50.449997\n",
      "epoch: 1200  trainloss: 1.3750933  trainaccuracy: 52.03 validloss: 1.4236737 validacc: 49.8\n",
      "epoch: 1300  trainloss: 1.376135  trainaccuracy: 51.57 validloss: 1.4406245 validacc: 48.050003\n",
      "epoch: 1400  trainloss: 1.2852721  trainaccuracy: 54.11 validloss: 1.3722639 validacc: 51.27\n",
      "epoch: 1500  trainloss: 1.2426999  trainaccuracy: 55.82 validloss: 1.3156855 validacc: 53.250004\n",
      "epoch: 1600  trainloss: 1.2885708  trainaccuracy: 54.68 validloss: 1.366155 validacc: 51.5\n",
      "epoch: 1700  trainloss: 1.3012697  trainaccuracy: 54.89 validloss: 1.3861305 validacc: 51.61\n",
      "epoch: 1800  trainloss: 1.2278762  trainaccuracy: 57.370003 validloss: 1.332215 validacc: 52.77\n",
      "epoch: 1900  trainloss: 1.2603935  trainaccuracy: 54.85 validloss: 1.3590862 validacc: 51.81\n",
      "epoch: 2000  trainloss: 1.2770658  trainaccuracy: 55.519997 validloss: 1.3808562 validacc: 52.41\n",
      "epoch: 2100  trainloss: 1.2287695  trainaccuracy: 56.46 validloss: 1.3103164 validacc: 52.87\n",
      "epoch: 2200  trainloss: 1.2559757  trainaccuracy: 56.0 validloss: 1.3492768 validacc: 52.87\n",
      "epoch: 2300  trainloss: 1.2189808  trainaccuracy: 56.940002 validloss: 1.3428833 validacc: 53.179996\n",
      "epoch: 2400  trainloss: 1.2151661  trainaccuracy: 57.120003 validloss: 1.3226122 validacc: 52.329998\n",
      "epoch: 2500  trainloss: 1.1921811  trainaccuracy: 58.219997 validloss: 1.314667 validacc: 53.969997\n",
      "epoch: 2600  trainloss: 1.1994648  trainaccuracy: 57.35 validloss: 1.346356 validacc: 52.079998\n",
      "epoch: 2700  trainloss: 1.236557  trainaccuracy: 56.690002 validloss: 1.3552303 validacc: 53.079998\n",
      "epoch: 2800  trainloss: 1.1350459  trainaccuracy: 59.719997 validloss: 1.2754316 validacc: 55.17\n",
      "epoch: 2900  trainloss: 1.2033105  trainaccuracy: 57.370003 validloss: 1.3345773 validacc: 52.890003\n",
      "epoch: 3000  trainloss: 1.1225332  trainaccuracy: 60.45 validloss: 1.2723275 validacc: 55.760002\n",
      "epoch: 3100  trainloss: 1.1722461  trainaccuracy: 58.73 validloss: 1.3267965 validacc: 53.469997\n",
      "epoch: 3200  trainloss: 1.1331412  trainaccuracy: 59.899998 validloss: 1.2824888 validacc: 55.059998\n",
      "epoch: 3300  trainloss: 1.1513971  trainaccuracy: 60.66 validloss: 1.3193297 validacc: 54.72\n",
      "epoch: 3400  trainloss: 1.1099504  trainaccuracy: 60.87 validloss: 1.2764482 validacc: 55.12\n",
      "epoch: 3500  trainloss: 1.175233  trainaccuracy: 58.84 validloss: 1.3239447 validacc: 54.5\n",
      "epoch: 3600  trainloss: 1.1863644  trainaccuracy: 58.399998 validloss: 1.358544 validacc: 53.66\n",
      "epoch: 3700  trainloss: 1.2552129  trainaccuracy: 56.269997 validloss: 1.4249876 validacc: 51.5\n",
      "epoch: 3800  trainloss: 1.1718029  trainaccuracy: 58.8 validloss: 1.3356872 validacc: 54.36\n",
      "epoch: 3900  trainloss: 1.1006465  trainaccuracy: 61.54 validloss: 1.2808579 validacc: 55.42\n"
     ]
    }
   ],
   "source": [
    "train_loss=[]\n",
    "valid_loss=[]\n",
    "train_acc=[]\n",
    "valid_acc=[]\n",
    "with tf.Session() as s:\n",
    "    s.run(init)\n",
    "    for i in range(epochs):\n",
    "        index=np.random.choice(Ntrain,batchsize,replace=False)\n",
    "        batch_x=xtrain1[index]\n",
    "        batch_y=ytrain1[index]\n",
    "        feeddict={x:batch_x,y:batch_y}\n",
    "        batch_loss,_,batchacc=s.run([cross_entropy,optimize,accuracy],feed_dict=feeddict)\n",
    "        if (i%10)==0:\n",
    "            \n",
    "            # Computing Train accuracy and loss\n",
    "            index1=np.random.choice(Ntrain,10000,replace=False)\n",
    "            batch_train_x=xtrain1[index1]\n",
    "            batch_train_y=ytrain1[index1]\n",
    "            feeddict1={x:batch_train_x,y:batch_train_y}\n",
    "            trainloss,trainacc=s.run([cross_entropy,accuracy],feed_dict=feeddict1)\n",
    "            train_loss.append(trainloss)\n",
    "            train_acc.append(trainacc)\n",
    "            \n",
    "            #Computing validation Accuracy and loss\n",
    "            \n",
    "            batch_valid_x=xvalid1\n",
    "            batch_valid_y=yvalid1\n",
    "            feeddict2={x:batch_valid_x,y:batch_valid_y}\n",
    "            validloss,validacc=s.run([cross_entropy,accuracy],feed_dict=feeddict2)\n",
    "            valid_loss.append(validloss)\n",
    "            valid_acc.append(validacc)\n",
    "            \n",
    "            if i%100==0:\n",
    "                print('epoch:',i,' trainloss:',trainloss,' trainaccuracy:',trainacc,'validloss:',validloss,'validacc:',validacc)"
   ]
  },
  {
   "cell_type": "code",
   "execution_count": 19,
   "metadata": {
    "_uuid": "8c0f783c6ecd72af489fc28db579bfb39eeb1f97"
   },
   "outputs": [
    {
     "data": {
      "text/plain": [
       "<matplotlib.legend.Legend at 0x7f709c5c1080>"
      ]
     },
     "execution_count": 19,
     "metadata": {},
     "output_type": "execute_result"
    },
    {
     "data": {
      "image/png": "[encoded data removed]",
      "text/plain": [
       "<Figure size 432x288 with 1 Axes>"
      ]
     },
     "metadata": {},
     "output_type": "display_data"
    }
   ],
   "source": [
    "plt.plot(train_acc,label='train_acc')\n",
    "plt.plot(valid_acc,label='valid_acc')\n",
    "plt.xlabel('epochs')\n",
    "plt.ylabel('accuracy')\n",
    "plt.legend()"
   ]
  },
  {
   "cell_type": "code",
   "execution_count": 20,
   "metadata": {
    "_uuid": "f4b601df04c48f57bf0619d18478afab4ceeb332"
   },
   "outputs": [
    {
     "data": {
      "text/plain": [
       "<matplotlib.legend.Legend at 0x7f709c56bb38>"
      ]
     },
     "execution_count": 20,
     "metadata": {},
     "output_type": "execute_result"
    },
    {
     "data": {
      "image/png": "[encoded data removed]",
      "text/plain": [
       "<Figure size 432x288 with 1 Axes>"
      ]
     },
     "metadata": {},
     "output_type": "display_data"
    }
   ],
   "source": [
    "plt.plot(train_loss,label='train_loss')\n",
    "plt.plot(valid_loss,label='valid_loss')\n",
    "plt.xlabel('epochs')\n",
    "plt.ylabel('loss')\n",
    "plt.legend()"
   ]
  },
  {
   "cell_type": "code",
   "execution_count": 21,
   "metadata": {
    "_uuid": "5f262ae593e5fd6420bfb0b8d1683acd8622c323"
   },
   "outputs": [],
   "source": [
    "#Gives around 57% accuracy. Lets try to improve Accuracy keeping parameters same "
   ]
  },
  {
   "cell_type": "code",
   "execution_count": 22,
   "metadata": {
    "_uuid": "93eb51703bb67075faff9b5d5823f4736e334c56"
   },
   "outputs": [],
   "source": []
  }
 ],
 "metadata": {
  "kernelspec": {
   "display_name": "Python 3",
   "language": "python",
   "name": "python3"
  },
  "language_info": {
   "codemirror_mode": {
    "name": "ipython",
    "version": 3
   },
   "file_extension": ".py",
   "mimetype": "text/x-python",
   "name": "python",
   "nbconvert_exporter": "python",
   "pygments_lexer": "ipython3",
   "version": "3.6.6"
  }
 },
 "nbformat": 4,
 "nbformat_minor": 1
}
